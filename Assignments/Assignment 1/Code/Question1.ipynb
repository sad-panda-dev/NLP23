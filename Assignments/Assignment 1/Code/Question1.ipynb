{
  "nbformat": 4,
  "nbformat_minor": 0,
  "metadata": {
    "colab": {
      "provenance": []
    },
    "kernelspec": {
      "name": "python3",
      "display_name": "Python 3"
    },
    "language_info": {
      "name": "python"
    }
  },
  "cells": [
    {
      "cell_type": "code",
      "source": [
        "import xml.etree.ElementTree as ET\n",
        "import matplotlib.pyplot as plt\n",
        "from scipy.stats import zipf\n",
        "import numpy as np\n",
        "from scipy.interpolate import make_interp_spline\n",
        "from collections import Counter\n",
        "import re"
      ],
      "metadata": {
        "id": "DVcssflopDk3"
      },
      "execution_count": 91,
      "outputs": []
    },
    {
      "cell_type": "code",
      "execution_count": 7,
      "metadata": {
        "id": "GrRa2OmzjeCv"
      },
      "outputs": [],
      "source": [
        "def parseXmlFile(xmlFile):\n",
        "  # Funtion to take in an .xml file as a parameter\n",
        "  # and iterates over the children of the ElementTree\n",
        "  # looking for a Title attribute. If found it stores\n",
        "  # the string associated with the title attribute\n",
        "  # in the titleWordsList. Once it has iterated over\n",
        "  # the entire file it returns the list.\n",
        "  #\n",
        "  # xmlFile : string -> string represenation of xml file path\n",
        "  # titleWords : list -> result list that stores all words\n",
        "  # found within a rows Title attribute\n",
        "\n",
        "  tree = ET.parse(xmlFile)\n",
        "  root = tree.getroot()\n",
        "\n",
        "  titleWords = []\n",
        "\n",
        "  for child in root:\n",
        "    attribute = child.attrib\n",
        "    if 'Title' in attribute:\n",
        "      titleWords.append(attribute['Title'])\n",
        "  \n",
        "  return titleWords"
      ]
    },
    {
      "cell_type": "code",
      "source": [
        "def convertToListOfWords(sentenceList):\n",
        "  # Function to convert the list of sentence \n",
        "  # strings passed in as a parameter into a list\n",
        "  # of words with punctuation removed. It leverages\n",
        "  # pythons re library, checking for any patterns\n",
        "  # that arent a word or whitespace and replaces them \n",
        "  # with whitespace. It then splits the sentences \n",
        "  # into a list of words and those words are appended\n",
        "  # to the returned list.\n",
        "  #\n",
        "  # sentenceList : list -> passed parameter list of \n",
        "  #         sentence strings\n",
        "  #\n",
        "  # convertedList : list -> returned list of words with\n",
        "  #         punctuation removed \n",
        "  convertedList = []\n",
        "\n",
        "  for sentence in sentenceList:\n",
        "    sentWithoutPunct = re.sub(r'[^\\w\\s]', '', sentence)\n",
        "    words = sentWithoutPunct.split()\n",
        "    for word in words:\n",
        "      word = word.lower()\n",
        "      convertedList.append(word)\n",
        "  \n",
        "  return convertedList"
      ],
      "metadata": {
        "id": "_jvE85zbkK4L"
      },
      "execution_count": 8,
      "outputs": []
    },
    {
      "cell_type": "code",
      "source": [
        "def zipfLawPlot(wordsList):\n",
        "  # Function to take in a list of words and create a \n",
        "  # Zipf's law plot. Creates a dictionary of words in list\n",
        "  # and their frequencies. It then sorts the words by their\n",
        "  # frequency in descending order.\n",
        "  #\n",
        "  # wordsList : list -> passed parameter list of words found\n",
        "  #         in the coffee stack exchanges question titles\n",
        "\n",
        "  # Count the frequency of each word\n",
        "  word_counts = dict(Counter(wordsList).most_common(30))\n",
        "  \n",
        "  sorted_word_counts = sorted(word_counts.items(), key=lambda x: x[1], reverse=True)\n",
        "  # print(sorted_word_counts)\n",
        "  sorted_frequencies = [y for (x,y) in sorted_word_counts]\n",
        "  print(len(sorted_frequencies))\n",
        "  sorted_words = [x for (x,y) in sorted_word_counts]\n",
        "  print(sorted_words)\n",
        "\n",
        "  plt.bar([val for val, key in sorted_word_counts], [key for val, key in sorted_word_counts], color='limegreen')\n",
        "  alpha = 1.37065874\n",
        "  total = sum([c for p, c in sorted_word_counts])\n",
        "  plt.plot(range(len(sorted_word_counts)), [zipf.pmf(p, alpha) * total for p in range(1, len(sorted_word_counts) + 1)], color='crimson', lw=3)\n",
        "  plt.ylabel(\"Frequencies\")\n",
        "  plt.xlabel(\"Words\")\n",
        "  plt.xticks(rotation='vertical')\n",
        "  plt.tight_layout()\n",
        "  plt.show()"
      ],
      "metadata": {
        "id": "D6IcljhOdUII"
      },
      "execution_count": 92,
      "outputs": []
    },
    {
      "cell_type": "code",
      "source": [
        "titleWords = parseXmlFile('/content/Posts_Coffee.xml')\n",
        "wordsToPlot = convertToListOfWords(titleWords)"
      ],
      "metadata": {
        "id": "A7BUAgIbjOmS"
      },
      "execution_count": 93,
      "outputs": []
    },
    {
      "cell_type": "code",
      "source": [
        "zipfLawPlot(wordsToPlot)"
      ],
      "metadata": {
        "colab": {
          "base_uri": "https://localhost:8080/",
          "height": 354
        },
        "id": "DIePfZ8Kj13t",
        "outputId": "6a8143e7-4ba8-41b1-a893-d40ca6dd8b52"
      },
      "execution_count": 94,
      "outputs": [
        {
          "output_type": "stream",
          "name": "stdout",
          "text": [
            "30\n",
            "['coffee', 'the', 'to', 'a', 'is', 'how', 'of', 'what', 'i', 'in', 'for', 'does', 'espresso', 'and', 'my', 'with', 'can', 'it', 'do', 'are', 'beans', 'why', 'machine', 'make', 'moka', 'water', 'pot', 'should', 'an', 'brew']\n"
          ]
        },
        {
          "output_type": "display_data",
          "data": {
            "text/plain": [
              "<Figure size 432x288 with 1 Axes>"
            ],
            "image/png": "[encoded data removed]"
          },
          "metadata": {
            "needs_background": "light"
          }
        }
      ]
    },
    {
      "cell_type": "code",
      "source": [
        "def smoothify(yInput):\n",
        "    x = np.array(range(0, 30))\n",
        "    y = np.array(yInput)\n",
        "    # define x as 600 equally spaced values between the min and max of original x\n",
        "    x_smooth = np.linspace(x.min(), x.max(), 600) \n",
        "    # define spline with degree k=3, which determines the amount of wiggle\n",
        "    spl = make_interp_spline(x, y, k=3)\n",
        "    y_smooth = spl(x_smooth)\n",
        "    # Return the x and y axis\n",
        "    return x_smooth, y_smooth"
      ],
      "metadata": {
        "id": "5nSP3oej2u2P"
      },
      "execution_count": 90,
      "outputs": []
    },
    {
      "cell_type": "code",
      "source": [
        "ziffianCurveValues = [100/i for i in range(1, 30+1)]\n",
        "x, y = smoothify(ziffianCurveValues)\n",
        "plt.plot(x, y, label='Ziffian Curve', ls=':', color='grey')"
      ],
      "metadata": {
        "colab": {
          "base_uri": "https://localhost:8080/",
          "height": 283
        },
        "id": "qSC9SrEY2otA",
        "outputId": "257e08be-5587-4bc5-e999-7f222771f836"
      },
      "execution_count": 80,
      "outputs": [
        {
          "output_type": "execute_result",
          "data": {
            "text/plain": [
              "[<matplotlib.lines.Line2D at 0x7ff5867e2880>]"
            ]
          },
          "metadata": {},
          "execution_count": 80
        },
        {
          "output_type": "display_data",
          "data": {
            "text/plain": [
              "<Figure size 432x288 with 1 Axes>"
            ],
            "image/png": "[encoded data removed]"
          },
          "metadata": {
            "needs_background": "light"
          }
        }
      ]
    }
  ]
}